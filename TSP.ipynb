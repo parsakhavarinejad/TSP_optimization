{
 "cells": [
  {
   "cell_type": "code",
   "execution_count": 57,
   "id": "7d8d8a4a",
   "metadata": {},
   "outputs": [],
   "source": [
    "import numpy as np\n",
    "import random \n",
    "import pandas as pd\n",
    "\n",
    "import ortools\n",
    "from ortools.constraint_solver import pywrapcp, routing_enums_pb2\n",
    "\n",
    "def create_random_distance_matrix(n):\n",
    "# Creating a distance matrix that follows the triangle inequality\n",
    "    matrix = np.zeros((n, n), dtype=int)\n",
    "\n",
    "    for i in range(n):\n",
    "        for j in range(i + 1, n):\n",
    "            matrix[i, j] = random.randint(1, 100)\n",
    "\n",
    "    for i in range(n):\n",
    "        for j in range(i + 1, n):\n",
    "            for k in range(j + 1, n):\n",
    "                matrix[j, k] = random.randint(1, 100)\n",
    "                while matrix[i, j] + matrix[j, k] < matrix[i, k]:\n",
    "                    matrix[i, k] = random.randint(1, 100)\n",
    "\n",
    "    matrix = matrix + matrix.T\n",
    "\n",
    "  \n",
    "    return matrix"
   ]
  },
  {
   "cell_type": "code",
   "execution_count": 58,
   "id": "a6af4e46",
   "metadata": {},
   "outputs": [],
   "source": [
    "matrix_10 = create_random_distance_matrix(10)\n",
    "matrix_20 = create_random_distance_matrix(20)"
   ]
  },
  {
   "cell_type": "code",
   "execution_count": 67,
   "id": "e9feba5c",
   "metadata": {},
   "outputs": [],
   "source": [
    "class Optimization:\n",
    "\n",
    "    def __init__(self, data, num_vehicles):\n",
    "        depot = 0\n",
    "        self.data = {}\n",
    "        self.data['distance_matrix'] = data\n",
    "        self.data['num_vehicles'] = num_vehicles\n",
    "        self.data['depot'] = depot\n",
    "\n",
    "        self.manager = pywrapcp.RoutingIndexManager(\n",
    "            len(self.data[\"distance_matrix\"]), self.data[\"num_vehicles\"], self.data[\"depot\"]\n",
    "        )\n",
    "        self.routing = pywrapcp.RoutingModel(self.manager)\n",
    "        self.transit_callback_index = self.routing.RegisterTransitCallback(self.distance_callback)\n",
    "\n",
    "        self.routing.SetArcCostEvaluatorOfAllVehicles(self.transit_callback_index)\n",
    "\n",
    "        self.search_parameters = pywrapcp.DefaultRoutingSearchParameters()\n",
    "        self.search_parameters.first_solution_strategy = (\n",
    "            routing_enums_pb2.FirstSolutionStrategy.PATH_CHEAPEST_ARC\n",
    "        )\n",
    "        self.solution = self.routing.SolveWithParameters(self.search_parameters)\n",
    "\n",
    "    def print_solution(self):\n",
    "        \"\"\"Prints solution on console.\"\"\"\n",
    "        print(f\"Objective: {self.solution.ObjectiveValue()} miles\")\n",
    "        index = self.routing.Start(0)\n",
    "        plan_output = \"Route for vehicle 0:\\n\"\n",
    "        route_distance = 0\n",
    "        while not self.routing.IsEnd(index):\n",
    "            plan_output += f\" {self.manager.IndexToNode(index)} ->\"\n",
    "            previous_index = index\n",
    "            index = self.solution.Value(self.routing.NextVar(index))\n",
    "            route_distance += self.routing.GetArcCostForVehicle(previous_index, index, 0)\n",
    "        plan_output += f\" {self.manager.IndexToNode(index)}\\n\"\n",
    "        print(plan_output)\n",
    "        plan_output += f\"Route distance: {route_distance}miles\\n\"\n",
    "        \n",
    "        routes = []\n",
    "        for route_nbr in range(self.routing.vehicles()):\n",
    "            index = self.routing.Start(route_nbr)\n",
    "            route = [self.manager.IndexToNode(index)]\n",
    "            while not self.routing.IsEnd(index):\n",
    "                index = self.solution.Value(self.routing.NextVar(index))\n",
    "                route.append(self.manager.IndexToNode(index))\n",
    "            routes.append(route)\n",
    "        \n",
    "        for i, route in enumerate(routes):\n",
    "            print('Route', i, route)\n",
    "\n",
    "    def distance_callback(self, from_index, to_index):\n",
    "        \"\"\"Returns the distance between the two nodes.\"\"\"\n",
    "        # Convert from routing variable Index to distance matrix NodeIndex.\n",
    "        from_node = self.manager.IndexToNode(from_index)\n",
    "        to_node = self.manager.IndexToNode(to_index)\n",
    "        return self.data[\"distance_matrix\"][from_node][to_node]"
   ]
  },
  {
   "cell_type": "code",
   "execution_count": 68,
   "id": "ae37fa65",
   "metadata": {},
   "outputs": [
    {
     "data": {
      "text/plain": [
       "array([[ 0, 22, 76,  5,  5,  2,  7, 12,  3, 10],\n",
       "       [22,  0, 68, 12, 28, 21, 20,  8, 10, 15],\n",
       "       [76, 68,  0, 24, 15, 29, 37, 19, 34, 21],\n",
       "       [ 5, 12, 24,  0, 23, 35, 60, 11, 43, 28],\n",
       "       [ 5, 28, 15, 23,  0, 29, 39, 15, 11,  5],\n",
       "       [ 2, 21, 29, 35, 29,  0, 30,  2, 27, 25],\n",
       "       [ 7, 20, 37, 60, 39, 30,  0,  3,  7, 34],\n",
       "       [12,  8, 19, 11, 15,  2,  3,  0,  4, 42],\n",
       "       [ 3, 10, 34, 43, 11, 27,  7,  4,  0, 51],\n",
       "       [10, 15, 21, 28,  5, 25, 34, 42, 51,  0]])"
      ]
     },
     "execution_count": 68,
     "metadata": {},
     "output_type": "execute_result"
    }
   ],
   "source": [
    "matrix_10"
   ]
  },
  {
   "cell_type": "code",
   "execution_count": 69,
   "id": "ca51a847",
   "metadata": {},
   "outputs": [
    {
     "name": "stdout",
     "output_type": "stream",
     "text": [
      "Objective: 88 miles\n",
      "Route for vehicle 0:\n",
      " 0 -> 3 -> 2 -> 4 -> 9 -> 1 -> 8 -> 6 -> 7 -> 5 -> 0\n",
      "\n",
      "Route 0 [0, 3, 2, 4, 9, 1, 8, 6, 7, 5, 0]\n"
     ]
    }
   ],
   "source": [
    "opt = Optimization(matrix_10, num_vehicles=1)\n",
    "\n",
    "opt.print_solution()"
   ]
  },
  {
   "cell_type": "code",
   "execution_count": 70,
   "id": "39405a56",
   "metadata": {},
   "outputs": [
    {
     "name": "stdout",
     "output_type": "stream",
     "text": [
      "Objective: 88 miles\n",
      "Route for vehicle 0:\n",
      " 0 -> 0\n",
      "\n",
      "Route 0 [0, 0]\n",
      "Route 1 [0, 0]\n",
      "Route 2 [0, 3, 2, 4, 9, 1, 8, 6, 7, 5, 0]\n"
     ]
    }
   ],
   "source": [
    "opt = Optimization(matrix_10, num_vehicles=3)\n",
    "\n",
    "opt.print_solution()"
   ]
  },
  {
   "cell_type": "code",
   "execution_count": 71,
   "id": "e5728cbe",
   "metadata": {},
   "outputs": [
    {
     "data": {
      "text/plain": [
       "array([[ 0, 89, 65, 92, 25, 15, 25,  8, 14,  6, 19,  2, 10, 22,  3, 27,\n",
       "        11, 29,  9, 30],\n",
       "       [89,  0, 18, 64, 26,  7, 24,  8,  2,  3, 16, 15, 22,  5,  6,  6,\n",
       "         2,  9,  2,  7],\n",
       "       [65, 18,  0, 52, 34, 49, 35, 38, 54,  9, 25, 36, 22, 17, 13, 18,\n",
       "         3,  8,  3,  4],\n",
       "       [92, 64, 52,  0, 29,  3,  4, 20, 16, 23, 10, 16, 40, 22, 17,  3,\n",
       "        32,  9,  8,  1],\n",
       "       [25, 26, 34, 29,  0, 91, 70, 74, 81, 41, 29, 29, 41, 16, 66, 11,\n",
       "        23, 35,  7,  5],\n",
       "       [15,  7, 49,  3, 91,  0, 93, 30, 46, 14, 58, 50, 30, 41, 18, 18,\n",
       "        17,  7, 12, 31],\n",
       "       [25, 24, 35,  4, 70, 93,  0, 26, 80, 32, 40, 18,  8, 22, 21, 38,\n",
       "        20,  1, 34, 38],\n",
       "       [ 8,  8, 38, 20, 74, 30, 26,  0, 83, 54, 87, 25, 86, 46, 30, 42,\n",
       "        28,  4, 48, 24],\n",
       "       [14,  2, 54, 16, 81, 46, 80, 83,  0, 29,  1, 18, 16, 19, 14,  7,\n",
       "        11, 15, 46,  8],\n",
       "       [ 6,  3,  9, 23, 41, 14, 32, 54, 29,  0,  9, 23,  2, 27, 14, 15,\n",
       "         5,  1,  2, 14],\n",
       "       [19, 16, 25, 10, 29, 58, 40, 87,  1,  9,  0, 42, 74, 21, 18, 18,\n",
       "        26, 22, 17, 23],\n",
       "       [ 2, 15, 36, 16, 29, 50, 18, 25, 18, 23, 42,  0, 58,  8, 10,  7,\n",
       "        11, 13,  7,  6],\n",
       "       [10, 22, 22, 40, 41, 30,  8, 86, 16,  2, 74, 58,  0, 33, 66, 35,\n",
       "        43,  9, 16, 26],\n",
       "       [22,  5, 17, 22, 16, 41, 22, 46, 19, 27, 21,  8, 33,  0, 87, 85,\n",
       "        15, 14, 19, 55],\n",
       "       [ 3,  6, 13, 17, 66, 18, 21, 30, 14, 14, 18, 10, 66, 87,  0, 21,\n",
       "        12,  9, 10, 22],\n",
       "       [27,  6, 18,  3, 11, 18, 38, 42,  7, 15, 18,  7, 35, 85, 21,  0,\n",
       "        20, 46, 20, 24],\n",
       "       [11,  2,  3, 32, 23, 17, 20, 28, 11,  5, 26, 11, 43, 15, 12, 20,\n",
       "         0, 33, 68, 14],\n",
       "       [29,  9,  8,  9, 35,  7,  1,  4, 15,  1, 22, 13,  9, 14,  9, 46,\n",
       "        33,  0, 57, 68],\n",
       "       [ 9,  2,  3,  8,  7, 12, 34, 48, 46,  2, 17,  7, 16, 19, 10, 20,\n",
       "        68, 57,  0, 76],\n",
       "       [30,  7,  4,  1,  5, 31, 38, 24,  8, 14, 23,  6, 26, 55, 22, 24,\n",
       "        14, 68, 76,  0]])"
      ]
     },
     "execution_count": 71,
     "metadata": {},
     "output_type": "execute_result"
    }
   ],
   "source": [
    "matrix_20"
   ]
  },
  {
   "cell_type": "code",
   "execution_count": 72,
   "id": "22fbd66b",
   "metadata": {},
   "outputs": [
    {
     "name": "stdout",
     "output_type": "stream",
     "text": [
      "Objective: 105 miles\n",
      "Route for vehicle 0:\n",
      " 0 -> 7 -> 17 -> 6 -> 12 -> 9 -> 10 -> 8 -> 15 -> 3 -> 5 -> 18 -> 4 -> 19 -> 2 -> 16 -> 1 -> 13 -> 11 -> 14 -> 0\n",
      "\n",
      "Route 0 [0, 7, 17, 6, 12, 9, 10, 8, 15, 3, 5, 18, 4, 19, 2, 16, 1, 13, 11, 14, 0]\n"
     ]
    }
   ],
   "source": [
    "opt = Optimization(matrix_20, num_vehicles=1)\n",
    "\n",
    "opt.print_solution()"
   ]
  },
  {
   "cell_type": "code",
   "execution_count": 73,
   "id": "347a976a",
   "metadata": {},
   "outputs": [
    {
     "name": "stdout",
     "output_type": "stream",
     "text": [
      "Objective: 109 miles\n",
      "Route for vehicle 0:\n",
      " 0 -> 0\n",
      "\n",
      "Route 0 [0, 0]\n",
      "Route 1 [0, 7, 0]\n",
      "Route 2 [0, 11, 13, 1, 15, 8, 10, 9, 12, 6, 17, 5, 3, 19, 4, 18, 2, 16, 14, 0]\n"
     ]
    }
   ],
   "source": [
    "opt = Optimization(matrix_20, num_vehicles=3)\n",
    "\n",
    "opt.print_solution()"
   ]
  },
  {
   "cell_type": "code",
   "execution_count": null,
   "id": "19b76866",
   "metadata": {},
   "outputs": [],
   "source": []
  }
 ],
 "metadata": {
  "kernelspec": {
   "display_name": "Python 3 (ipykernel)",
   "language": "python",
   "name": "python3"
  },
  "language_info": {
   "codemirror_mode": {
    "name": "ipython",
    "version": 3
   },
   "file_extension": ".py",
   "mimetype": "text/x-python",
   "name": "python",
   "nbconvert_exporter": "python",
   "pygments_lexer": "ipython3",
   "version": "3.11.3"
  }
 },
 "nbformat": 4,
 "nbformat_minor": 5
}
