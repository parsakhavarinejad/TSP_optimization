{
 "cells": [
  {
   "cell_type": "code",
   "execution_count": 30,
   "id": "7d8d8a4a",
   "metadata": {},
   "outputs": [],
   "source": [
    "import numpy as np\n",
    "import random \n",
    "import pandas as pd\n",
    "import pyomo\n",
    "import pyomo.environ as env\n",
    "\n",
    "def create_random_distance_matrix(n):\n",
    "# Creating a distance matrix that follows the triangle inequality\n",
    "    matrix = np.zeros((n, n), dtype=int)\n",
    "\n",
    "    for i in range(n):\n",
    "        for j in range(i + 1, n):\n",
    "            matrix[i, j] = random.randint(1, 100)\n",
    "\n",
    "    for i in range(n):\n",
    "        for j in range(i + 1, n):\n",
    "            for k in range(j + 1, n):\n",
    "                matrix[j, k] = random.randint(1, 100)\n",
    "                while matrix[i, j] + matrix[j, k] < matrix[i, k]:\n",
    "                    matrix[i, k] = random.randint(1, 100)\n",
    "\n",
    "    matrix = matrix + matrix.T\n",
    "    return matrix"
   ]
  },
  {
   "cell_type": "code",
   "execution_count": 31,
   "id": "a6af4e46",
   "metadata": {},
   "outputs": [],
   "source": [
    "matrix = create_random_distance_matrix(10)"
   ]
  },
  {
   "cell_type": "code",
   "execution_count": 73,
   "id": "208034b4",
   "metadata": {},
   "outputs": [],
   "source": [
    "class Optimization:\n",
    "    \n",
    "    def __init__(self, cost_matrix, num_cities):\n",
    "        self.cost_matrix = cost_matrix\n",
    "        self.num_cities = num_cities\n",
    "        \n",
    "    def model(self):\n",
    "        self.model = env.ConcreteModel()\n",
    "        self.model.M = env.RangeSet(self.num_cities)  \n",
    "        self.model.N = env.RangeSet(self.num_cities) \n",
    "        self.model.U = env.RangeSet(2, self.num_cities) \n",
    "        \n",
    "        self.model.x = env.Var(self.model.N, self.model.M, within=env.Binary)\n",
    "        \n",
    "        self.model.u = env.Var(self.model.N, within=env.NonNegativeIntegers, bounds=(0, self.num_cities-1))\n",
    "        self.model.c = env.Param(self.model.N, self.model.M, initialize=lambda model, i, j: self.cost_matrix[i-1][j-1])\n",
    "        \n",
    "        self.model.num_cities = self.num_cities  # Store num_cities in the model\n",
    "        \n",
    "        self.model.objective = env.Objective(rule=self.__obj_func, sense=env.minimize)\n",
    "        self.model.const1 = env.Constraint(self.model.M, rule=self.__rule_const1)\n",
    "        self.model.rest2 = env.Constraint(self.model.N, rule=self.__rule_const2)\n",
    "        self.model.rest3 = env.Constraint(self.model.U, self.model.N, rule=self.__rule_const3)\n",
    "        \n",
    "    @staticmethod\n",
    "    def __obj_func(model):\n",
    "        return sum(model.x[i, j] * model.c[i, j] for i in model.N for j in model.M)\n",
    "    \n",
    "    @staticmethod\n",
    "    def __rule_const1(model, M):\n",
    "        return sum(model.x[i, M] for i in model.N if i != M) == 1\n",
    "    \n",
    "    @staticmethod\n",
    "    def __rule_const2(model, N):\n",
    "        return sum(model.x[N, j] for j in model.M if j != N) == 1\n",
    "    \n",
    "    @staticmethod\n",
    "    def __rule_const3(model, i, j):\n",
    "        if i != j: \n",
    "            return model.u[i] - model.u[j] + model.x[i, j] * model.num_cities <= model.num_cities - 1\n",
    "        else:\n",
    "            return model.u[i] - model.u[i] == 0 \n",
    "    \n",
    "    def print_model(self):\n",
    "        self.model.pprint()\n",
    "    \n",
    "    def solve_model(self):\n",
    "        solver = env.SolverFactory('glpk')\n",
    "        result = solver.solve(self.model)\n",
    "        print(result)\n",
    "    \n",
    "    def print_output(self):\n",
    "        List = list(self.model.x.keys())\n",
    "        valid_list = []\n",
    "        for i in List:\n",
    "            if self.model.x[i]() is not None and self.model.x[i]() != 0:\n",
    "                valid_list.append(i)\n",
    "        relation_dict = {item[0]: item[1] for item in valid_list}\n",
    "\n",
    "        current = 1  # Start with the first element\n",
    "        visited = set()  # Keep track of visited elements\n",
    "\n",
    "        while current in relation_dict and current not in visited:\n",
    "            print(current, end=' -> ')\n",
    "            visited.add(current)\n",
    "            current = relation_dict[current]\n",
    "        print(1)\n"
   ]
  },
  {
   "cell_type": "code",
   "execution_count": 74,
   "id": "4ff8575b",
   "metadata": {},
   "outputs": [],
   "source": [
    "opt = Optimization(matrix, len(matrix))"
   ]
  },
  {
   "cell_type": "code",
   "execution_count": 75,
   "id": "4577969c",
   "metadata": {},
   "outputs": [],
   "source": [
    "opt.model()"
   ]
  },
  {
   "cell_type": "code",
   "execution_count": 76,
   "id": "0ab93b16",
   "metadata": {},
   "outputs": [
    {
     "name": "stdout",
     "output_type": "stream",
     "text": [
      "\n",
      "Problem: \n",
      "- Name: unknown\n",
      "  Lower bound: 55.0\n",
      "  Upper bound: 55.0\n",
      "  Number of objectives: 1\n",
      "  Number of constraints: 930\n",
      "  Number of variables: 901\n",
      "  Number of nonzeros: 4263\n",
      "  Sense: minimize\n",
      "Solver: \n",
      "- Status: ok\n",
      "  Termination condition: optimal\n",
      "  Statistics: \n",
      "    Branch and bound: \n",
      "      Number of bounded subproblems: 130349\n",
      "      Number of created subproblems: 130349\n",
      "  Error rc: 0\n",
      "  Time: 286.15726137161255\n",
      "Solution: \n",
      "- number of solutions: 0\n",
      "  number of solutions displayed: 0\n",
      "\n"
     ]
    }
   ],
   "source": [
    "opt.solve_model()"
   ]
  },
  {
   "cell_type": "code",
   "execution_count": 77,
   "id": "db4ec205",
   "metadata": {},
   "outputs": [
    {
     "name": "stdout",
     "output_type": "stream",
     "text": [
      "1 -> 16 -> 27 -> 2 -> 22 -> 28 -> 18 -> 11 -> 21 -> 24 -> 19 -> 8 -> 30 -> 10 -> 26 -> 4 -> 17 -> 5 -> 20 -> 29 -> 6 -> 15 -> 3 -> 9 -> 12 -> 23 -> 14 -> 7 -> 25 -> 13 -> 1\n"
     ]
    }
   ],
   "source": [
    "opt.print_output()"
   ]
  },
  {
   "cell_type": "code",
   "execution_count": null,
   "id": "4f7ee957",
   "metadata": {},
   "outputs": [],
   "source": []
  },
  {
   "cell_type": "code",
   "execution_count": 59,
   "id": "4c8dc28b",
   "metadata": {},
   "outputs": [],
   "source": [
    "class KOptimization:\n",
    "    \n",
    "    def __init__(self, cost_matrix, num_cities, num_drivers=3):\n",
    "        self.cost_matrix = cost_matrix\n",
    "        self.num_cities = num_cities\n",
    "        self.num_drivers = num_drivers\n",
    "        \n",
    "    def model(self):\n",
    "        self.model = env.ConcreteModel()\n",
    "        self.model.M = env.RangeSet(self.num_cities)  \n",
    "        self.model.N = env.RangeSet(self.num_cities) \n",
    "        self.model.U = env.RangeSet(2, self.num_cities) \n",
    "        \n",
    "        self.model.x = env.Var(self.model.N, self.model.M, within=env.Binary)\n",
    "        \n",
    "        self.model.u = env.Var(self.model.N, within=env.NonNegativeIntegers, bounds=(0, self.num_cities-1))\n",
    "        self.model.c = env.Param(self.model.N, self.model.M, initialize=lambda model, i, j: self.cost_matrix[i-1][j-1])\n",
    "        \n",
    "        self.model.num_cities = self.num_cities   # Store num_cities in the model\n",
    "        self.model.num_drivers = self.num_drivers  # Store num_drivers in the model\n",
    "        \n",
    "        self.model.objective = env.Objective(rule=self.__obj_func, sense=env.minimize)\n",
    "        self.model.rest1 = env.Constraint(self.model.M - [1], rule=self.__rule_const1)\n",
    "        self.model.rest2 = env.Constraint(self.model.N - [1], rule=self.__rule_const2)\n",
    "        self.model.rest4 = env.Constraint(self.model.N, rule=self.__rule_const4)\n",
    "        self.model.rest5 = env.Constraint(self.model.M, rule=self.__rule_const5)\n",
    "        self.model.rest3 = env.Constraint(self.model.U, self.model.N, rule=self.__rule_const3)\n",
    "        \n",
    "    @staticmethod\n",
    "    def __obj_func(model):\n",
    "        return sum(model.x[i, j] * model.c[i, j] for i in model.N for j in model.M)\n",
    "    \n",
    "    @staticmethod\n",
    "    def __rule_const1(model, M):\n",
    "        return sum(model.x[i, M] for i in model.N if i != M) == 1\n",
    "    \n",
    "    @staticmethod\n",
    "    def __rule_const2(model, N):\n",
    "        return sum(model.x[N, j] for j in model.M if j != N) == 1\n",
    "    \n",
    "    @staticmethod\n",
    "    def __rule_const4(model, M):\n",
    "        return sum(model.x[i, 1] for i in model.M if i != 1) == model.num_drivers\n",
    "\n",
    "    @staticmethod\n",
    "    def __rule_const5(model, N):\n",
    "        return sum(model.x[1, j] for j in model.M if j != 1) == model.num_drivers\n",
    "\n",
    "\n",
    "    @staticmethod\n",
    "    def __rule_const3(model, i, j):\n",
    "        if i != j: \n",
    "            return model.u[i] - model.u[j] + model.x[i, j] * model.num_cities <= model.num_cities - 1\n",
    "        else:\n",
    "            return model.u[i] - model.u[i] == 0 \n",
    "    \n",
    "    def print_model(self):\n",
    "        self.model.pprint()\n",
    "    \n",
    "    def solve_model(self):\n",
    "        solver = env.SolverFactory('glpk')\n",
    "        result = solver.solve(self.model)\n",
    "        print(result)\n",
    "    \n",
    "    def print_output(self):\n",
    "        List = list(self.model.x.keys())\n",
    "        valid_list = []\n",
    "        for i in List:\n",
    "            if self.model.x[i]() is not None and self.model.x[i]() != 0:\n",
    "                valid_list.append(i)\n",
    "        relation_dict = {item[0]: item[1] for item in valid_list}\n",
    "        print(relation_dict)\n",
    "        print(valid_list)\n",
    "\n",
    "        current = 1  # Start with the first element\n",
    "        visited = set()  # Keep track of visited elements\n",
    "\n",
    "        while current in relation_dict and current not in visited:\n",
    "            print(current, end=' -> ')\n",
    "            visited.add(current)\n",
    "            current = relation_dict[current]\n",
    "        print(1)\n"
   ]
  },
  {
   "cell_type": "code",
   "execution_count": 60,
   "id": "3b4a6e53",
   "metadata": {
    "scrolled": true
   },
   "outputs": [
    {
     "name": "stdout",
     "output_type": "stream",
     "text": [
      "\n",
      "Problem: \n",
      "- Name: unknown\n",
      "  Lower bound: 265.0\n",
      "  Upper bound: 265.0\n",
      "  Number of objectives: 1\n",
      "  Number of constraints: 128\n",
      "  Number of variables: 101\n",
      "  Number of nonzeros: 585\n",
      "  Sense: minimize\n",
      "Solver: \n",
      "- Status: ok\n",
      "  Termination condition: optimal\n",
      "  Statistics: \n",
      "    Branch and bound: \n",
      "      Number of bounded subproblems: 25\n",
      "      Number of created subproblems: 25\n",
      "  Error rc: 0\n",
      "  Time: 0.04130721092224121\n",
      "Solution: \n",
      "- number of solutions: 0\n",
      "  number of solutions displayed: 0\n",
      "\n",
      "{1: 10, 2: 7, 3: 5, 4: 1, 5: 1, 6: 8, 7: 6, 8: 3, 9: 2, 10: 1}\n",
      "[(1, 4), (1, 9), (1, 10), (2, 7), (3, 5), (4, 1), (5, 1), (6, 8), (7, 6), (8, 3), (9, 2), (10, 1)]\n",
      "1 -> 10 -> 1\n"
     ]
    }
   ],
   "source": [
    "opt = KOptimization(matrix, len(matrix))\n",
    "opt.model()\n",
    "opt.solve_model()\n",
    "opt.print_output()\n"
   ]
  },
  {
   "cell_type": "code",
   "execution_count": 61,
   "id": "d783d29f",
   "metadata": {},
   "outputs": [],
   "source": [
    "l = [(1, 4), (1, 9), (1, 10), (2, 7), (3, 5), (4, 1), (5, 1), (6, 8), (7, 6), (8, 3), (9, 2), (10, 1)]"
   ]
  },
  {
   "cell_type": "code",
   "execution_count": 62,
   "id": "245795b1",
   "metadata": {},
   "outputs": [],
   "source": [
    "r = {item[0]: item[1] for item in l}"
   ]
  },
  {
   "cell_type": "code",
   "execution_count": 63,
   "id": "31c5e5c5",
   "metadata": {},
   "outputs": [
    {
     "data": {
      "text/plain": [
       "{1: 10, 2: 7, 3: 5, 4: 1, 5: 1, 6: 8, 7: 6, 8: 3, 9: 2, 10: 1}"
      ]
     },
     "execution_count": 63,
     "metadata": {},
     "output_type": "execute_result"
    }
   ],
   "source": [
    "r"
   ]
  },
  {
   "cell_type": "code",
   "execution_count": null,
   "id": "6cce04f2",
   "metadata": {},
   "outputs": [],
   "source": []
  }
 ],
 "metadata": {
  "kernelspec": {
   "display_name": "Python 3 (ipykernel)",
   "language": "python",
   "name": "python3"
  },
  "language_info": {
   "codemirror_mode": {
    "name": "ipython",
    "version": 3
   },
   "file_extension": ".py",
   "mimetype": "text/x-python",
   "name": "python",
   "nbconvert_exporter": "python",
   "pygments_lexer": "ipython3",
   "version": "3.11.3"
  }
 },
 "nbformat": 4,
 "nbformat_minor": 5
}
