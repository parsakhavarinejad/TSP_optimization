{
 "cells": [
  {
   "cell_type": "code",
   "execution_count": 148,
   "id": "805a7cb9",
   "metadata": {},
   "outputs": [],
   "source": [
    "import numpy as np\n",
    "import pandas as pd\n",
    "from scipy.spatial.distance import pdist, squareform\n",
    "import matplotlib.pyplot as plt\n",
    "import matplotlib as mpl\n",
    "import networkx as nx\n",
    "import pyomo.environ as pyo\n",
    "from pyomo.contrib.appsi.solvers.highs import Highs"
   ]
  },
  {
   "cell_type": "code",
   "execution_count": 149,
   "id": "08495cd2",
   "metadata": {},
   "outputs": [],
   "source": [
    "distance_matrix = pd.read_csv(\"Distance_matrix.csv\").values\n",
    "demands = pd.read_csv('demands.csv').values[0]"
   ]
  },
  {
   "cell_type": "code",
   "execution_count": 151,
   "id": "9da2ec70",
   "metadata": {},
   "outputs": [],
   "source": [
    "capacity = sum(demands) // 4"
   ]
  },
  {
   "cell_type": "code",
   "execution_count": 152,
   "id": "612f7f85",
   "metadata": {},
   "outputs": [
    {
     "data": {
      "text/plain": [
       "33"
      ]
     },
     "execution_count": 152,
     "metadata": {},
     "output_type": "execute_result"
    }
   ],
   "source": [
    "capacity"
   ]
  },
  {
   "cell_type": "code",
   "execution_count": 154,
   "id": "26ec1071",
   "metadata": {},
   "outputs": [],
   "source": [
    "class Optimization:\n",
    "    \n",
    "    def __init__(self, capacity, demands, num_vehicles, distances):\n",
    "        self.capacity = capacity\n",
    "        self.demands = demands\n",
    "        self.num_vehicles = num_vehicles\n",
    "        self.distances = distances\n",
    "        self.num_cities = len(distances)\n",
    "        \n",
    "    def model(self):\n",
    "        self.model = pyo.ConcreteModel()\n",
    "        self.model.N = pyo.RangeSet(1, self.num_cities)\n",
    "        self.model.V = pyo.RangeSet(0, self.num_cities)\n",
    "        self.model.K = pyo.RangeSet(1, self.num_vehicles)\n",
    "\n",
    "        self.model.Q = self.capacity\n",
    "        self.model.d = {i: self.demands[i-1] for i in self.model.N}\n",
    "        self.model.c = {(i, j): self.distances[i-1][j-1] for i in self.model.V for j in self.model.V if i != j}\n",
    "\n",
    "        self.model.x = pyo.Var(self.model.V, self.model.V, self.model.K, within=pyo.Binary)\n",
    "        self.model.u = pyo.Var(self.model.N, within=pyo.NonNegativeIntegers, bounds=(0, self.model.Q))\n",
    "\n",
    "        \n",
    "        self.model.obj = pyo.Objective(expr=self.__obj_func, sense=pyo.minimize)\n",
    "\n",
    "        self.model.cons1 = pyo.Constraint(self.model.N, rule=self.__rule_const1)\n",
    "        self.model.cons2 = pyo.Constraint(self.model.K, rule=self.__rule_const2)\n",
    "        self.model.cons3 = pyo.Constraint(self.model.K, rule=self.__rule_const3)\n",
    "        self.model.cons4 = pyo.Constraint(self.model.N, self.model.N, self.model.K, rule=self.__rule_const4)\n",
    "\n",
    "        \n",
    "    @staticmethod\n",
    "    def __obj_func(model):\n",
    "        return sum(model.c[i, j] * model.x[i, j, k] for i in model.V for j in model.V for k in model.K if i != j)\n",
    "    \n",
    "    @staticmethod\n",
    "    def __rule_const1(model, i):\n",
    "        return sum(model.x[i, j, k] for j in model.V for k in model.K) == 1\n",
    "\n",
    "    @staticmethod\n",
    "    def __rule_const2(model, k):\n",
    "        return sum(model.x[0, j, k] for j in model.N) == 1\n",
    "    \n",
    "    @staticmethod\n",
    "    def __rule_const3(model, k):\n",
    "        return sum(model.x[i, 0, k] for i in model.N) == 1\n",
    "\n",
    "    @staticmethod\n",
    "    def __rule_const4(model, i, j, k):\n",
    "        return model.u[i] - model.u[j] + model.Q * model.x[i, j, k] <= model.Q - model.d[j]\n",
    "\n",
    "        \n",
    "    def print_model(self):\n",
    "        self.model.pprint()\n",
    "    \n",
    "    def solve_model(self):\n",
    "        solver = pyo.SolverFactory('cplex')\n",
    "        result = solver.solve(self.model)\n",
    "        print(result)\n",
    "    \n",
    "    def print_output(self):\n",
    "        List = list(self.model.x.keys())\n",
    "        valid_list = []\n",
    "        for i in List:\n",
    "            if self.model.x[i]() is not None and self.model.x[i]() != 0:\n",
    "                valid_list.append(i)\n",
    "\n",
    "        # Create a graph\n",
    "        G = nx.Graph()\n",
    "\n",
    "        edges = valid_list\n",
    "        edges = [(i, j, {'vehicle': k}) for i, j, k in edges]\n",
    "        # Add edges to the graph\n",
    "        G.add_edges_from(edges)\n",
    "\n",
    "        # Calculate the positions of the nodes using a spring layout\n",
    "        pos = nx.spring_layout(G)\n",
    "\n",
    "        # Define visualization options\n",
    "        options = {\n",
    "            \"font_size\": 5,\n",
    "            \"node_size\": 100,\n",
    "            \"node_color\": \"white\",\n",
    "            \"edgecolors\": \"black\",\n",
    "            \"linewidths\": 1,\n",
    "            \"width\": 1,\n",
    "        }\n",
    "\n",
    "        # Draw the graph with options\n",
    "        nx.draw_networkx(G, pos, **options)\n",
    "\n",
    "        # Adjust margins before disabling axes\n",
    "        ax = plt.gca()        \n",
    "        ax.margins(0.20)\n",
    "\n",
    "        # Turn off axes and show the plot\n",
    "        plt.axis(\"off\")\n",
    "        plt.show()\n",
    "        "
   ]
  },
  {
   "cell_type": "code",
   "execution_count": 155,
   "id": "af3cd646",
   "metadata": {},
   "outputs": [],
   "source": [
    "opt = Optimization(capacity, demands, 3, distance_matrix)"
   ]
  },
  {
   "cell_type": "code",
   "execution_count": 156,
   "id": "90b20380",
   "metadata": {},
   "outputs": [
    {
     "name": "stdout",
     "output_type": "stream",
     "text": [
      "\n",
      "Problem: \n",
      "- Name: tmp9f4swsyg\n",
      "  Lower bound: 1428.0\n",
      "  Upper bound: 1428.0\n",
      "  Number of objectives: 1\n",
      "  Number of constraints: 2736\n",
      "  Number of variables: 2910\n",
      "  Number of nonzeros: 10890\n",
      "  Sense: minimize\n",
      "Solver: \n",
      "- Status: ok\n",
      "  User time: 1.16\n",
      "  Termination condition: optimal\n",
      "  Termination message: MIP - Integer optimal solution\\x3a Objective = 1.4280000000e+03\n",
      "  Statistics: \n",
      "    Branch and bound: \n",
      "      Number of bounded subproblems: 31\n",
      "      Number of created subproblems: 31\n",
      "  Error rc: 0\n",
      "  Time: 1.3578495979309082\n",
      "Solution: \n",
      "- number of solutions: 0\n",
      "  number of solutions displayed: 0\n",
      "\n"
     ]
    }
   ],
   "source": [
    "opt.model()\n",
    "# opt.print_model()\n",
    "opt.solve_model()"
   ]
  },
  {
   "cell_type": "code",
   "execution_count": 157,
   "id": "68afe1ec",
   "metadata": {},
   "outputs": [
    {
     "data": {
      "image/png": "[encoded data removed]",
      "text/plain": [
       "<Figure size 640x480 with 1 Axes>"
      ]
     },
     "metadata": {},
     "output_type": "display_data"
    }
   ],
   "source": [
    "opt.print_output()"
   ]
  },
  {
   "cell_type": "code",
   "execution_count": null,
   "id": "66020aeb",
   "metadata": {},
   "outputs": [],
   "source": []
  }
 ],
 "metadata": {
  "kernelspec": {
   "display_name": "Python 3 (ipykernel)",
   "language": "python",
   "name": "python3"
  },
  "language_info": {
   "codemirror_mode": {
    "name": "ipython",
    "version": 3
   },
   "file_extension": ".py",
   "mimetype": "text/x-python",
   "name": "python",
   "nbconvert_exporter": "python",
   "pygments_lexer": "ipython3",
   "version": "3.11.3"
  }
 },
 "nbformat": 4,
 "nbformat_minor": 5
}
